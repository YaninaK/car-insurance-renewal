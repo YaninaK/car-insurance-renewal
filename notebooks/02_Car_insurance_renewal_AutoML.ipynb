{
  "nbformat": 4,
  "nbformat_minor": 0,
  "metadata": {
    "colab": {
      "provenance": [],
      "include_colab_link": true
    },
    "kernelspec": {
      "name": "python3",
      "display_name": "Python 3"
    },
    "language_info": {
      "name": "python"
    },
    "widgets": {
      "application/vnd.jupyter.widget-state+json": {
        "9ffb1e3230db44388a8686651dc182b2": {
          "model_module": "@jupyter-widgets/controls",
          "model_name": "HBoxModel",
          "model_module_version": "1.5.0",
          "state": {
            "_dom_classes": [],
            "_model_module": "@jupyter-widgets/controls",
            "_model_module_version": "1.5.0",
            "_model_name": "HBoxModel",
            "_view_count": null,
            "_view_module": "@jupyter-widgets/controls",
            "_view_module_version": "1.5.0",
            "_view_name": "HBoxView",
            "box_style": "",
            "children": [
              "IPY_MODEL_f4491925ec1e48b7a355015c47c73059",
              "IPY_MODEL_ae5817d37f8a4a06a578d86dac32727f",
              "IPY_MODEL_1589801d8cd84226956fb2356bfdcc8e"
            ],
            "layout": "IPY_MODEL_398e8b257d71426a875ecf697ea8f7df"
          }
        },
        "f4491925ec1e48b7a355015c47c73059": {
          "model_module": "@jupyter-widgets/controls",
          "model_name": "HTMLModel",
          "model_module_version": "1.5.0",
          "state": {
            "_dom_classes": [],
            "_model_module": "@jupyter-widgets/controls",
            "_model_module_version": "1.5.0",
            "_model_name": "HTMLModel",
            "_view_count": null,
            "_view_module": "@jupyter-widgets/controls",
            "_view_module_version": "1.5.0",
            "_view_name": "HTMLView",
            "description": "",
            "description_tooltip": null,
            "layout": "IPY_MODEL_049d4f55ecf44e74829a6dcb0f97d905",
            "placeholder": "​",
            "style": "IPY_MODEL_a8e4a9e66fb64498b246f09c8087c819",
            "value": "Processing: 100%"
          }
        },
        "ae5817d37f8a4a06a578d86dac32727f": {
          "model_module": "@jupyter-widgets/controls",
          "model_name": "FloatProgressModel",
          "model_module_version": "1.5.0",
          "state": {
            "_dom_classes": [],
            "_model_module": "@jupyter-widgets/controls",
            "_model_module_version": "1.5.0",
            "_model_name": "FloatProgressModel",
            "_view_count": null,
            "_view_module": "@jupyter-widgets/controls",
            "_view_module_version": "1.5.0",
            "_view_name": "ProgressView",
            "bar_style": "",
            "description": "",
            "description_tooltip": null,
            "layout": "IPY_MODEL_ad849b0b7b0a4784af0d2e74bc11543a",
            "max": 65,
            "min": 0,
            "orientation": "horizontal",
            "style": "IPY_MODEL_f59b0641218c4165ad28e4f83509432b",
            "value": 65
          }
        },
        "1589801d8cd84226956fb2356bfdcc8e": {
          "model_module": "@jupyter-widgets/controls",
          "model_name": "HTMLModel",
          "model_module_version": "1.5.0",
          "state": {
            "_dom_classes": [],
            "_model_module": "@jupyter-widgets/controls",
            "_model_module_version": "1.5.0",
            "_model_name": "HTMLModel",
            "_view_count": null,
            "_view_module": "@jupyter-widgets/controls",
            "_view_module_version": "1.5.0",
            "_view_name": "HTMLView",
            "description": "",
            "description_tooltip": null,
            "layout": "IPY_MODEL_eb6756a23dea45d99d066bde745e9a20",
            "placeholder": "​",
            "style": "IPY_MODEL_f22b89630f6444569bb7b35cabfd4ff1",
            "value": " 65/65 [01:38&lt;00:00,  1.55s/it]"
          }
        },
        "398e8b257d71426a875ecf697ea8f7df": {
          "model_module": "@jupyter-widgets/base",
          "model_name": "LayoutModel",
          "model_module_version": "1.2.0",
          "state": {
            "_model_module": "@jupyter-widgets/base",
            "_model_module_version": "1.2.0",
            "_model_name": "LayoutModel",
            "_view_count": null,
            "_view_module": "@jupyter-widgets/base",
            "_view_module_version": "1.2.0",
            "_view_name": "LayoutView",
            "align_content": null,
            "align_items": null,
            "align_self": null,
            "border": null,
            "bottom": null,
            "display": null,
            "flex": null,
            "flex_flow": null,
            "grid_area": null,
            "grid_auto_columns": null,
            "grid_auto_flow": null,
            "grid_auto_rows": null,
            "grid_column": null,
            "grid_gap": null,
            "grid_row": null,
            "grid_template_areas": null,
            "grid_template_columns": null,
            "grid_template_rows": null,
            "height": null,
            "justify_content": null,
            "justify_items": null,
            "left": null,
            "margin": null,
            "max_height": null,
            "max_width": null,
            "min_height": null,
            "min_width": null,
            "object_fit": null,
            "object_position": null,
            "order": null,
            "overflow": null,
            "overflow_x": null,
            "overflow_y": null,
            "padding": null,
            "right": null,
            "top": null,
            "visibility": "hidden",
            "width": null
          }
        },
        "049d4f55ecf44e74829a6dcb0f97d905": {
          "model_module": "@jupyter-widgets/base",
          "model_name": "LayoutModel",
          "model_module_version": "1.2.0",
          "state": {
            "_model_module": "@jupyter-widgets/base",
            "_model_module_version": "1.2.0",
            "_model_name": "LayoutModel",
            "_view_count": null,
            "_view_module": "@jupyter-widgets/base",
            "_view_module_version": "1.2.0",
            "_view_name": "LayoutView",
            "align_content": null,
            "align_items": null,
            "align_self": null,
            "border": null,
            "bottom": null,
            "display": null,
            "flex": null,
            "flex_flow": null,
            "grid_area": null,
            "grid_auto_columns": null,
            "grid_auto_flow": null,
            "grid_auto_rows": null,
            "grid_column": null,
            "grid_gap": null,
            "grid_row": null,
            "grid_template_areas": null,
            "grid_template_columns": null,
            "grid_template_rows": null,
            "height": null,
            "justify_content": null,
            "justify_items": null,
            "left": null,
            "margin": null,
            "max_height": null,
            "max_width": null,
            "min_height": null,
            "min_width": null,
            "object_fit": null,
            "object_position": null,
            "order": null,
            "overflow": null,
            "overflow_x": null,
            "overflow_y": null,
            "padding": null,
            "right": null,
            "top": null,
            "visibility": null,
            "width": null
          }
        },
        "a8e4a9e66fb64498b246f09c8087c819": {
          "model_module": "@jupyter-widgets/controls",
          "model_name": "DescriptionStyleModel",
          "model_module_version": "1.5.0",
          "state": {
            "_model_module": "@jupyter-widgets/controls",
            "_model_module_version": "1.5.0",
            "_model_name": "DescriptionStyleModel",
            "_view_count": null,
            "_view_module": "@jupyter-widgets/base",
            "_view_module_version": "1.2.0",
            "_view_name": "StyleView",
            "description_width": ""
          }
        },
        "ad849b0b7b0a4784af0d2e74bc11543a": {
          "model_module": "@jupyter-widgets/base",
          "model_name": "LayoutModel",
          "model_module_version": "1.2.0",
          "state": {
            "_model_module": "@jupyter-widgets/base",
            "_model_module_version": "1.2.0",
            "_model_name": "LayoutModel",
            "_view_count": null,
            "_view_module": "@jupyter-widgets/base",
            "_view_module_version": "1.2.0",
            "_view_name": "LayoutView",
            "align_content": null,
            "align_items": null,
            "align_self": null,
            "border": null,
            "bottom": null,
            "display": null,
            "flex": null,
            "flex_flow": null,
            "grid_area": null,
            "grid_auto_columns": null,
            "grid_auto_flow": null,
            "grid_auto_rows": null,
            "grid_column": null,
            "grid_gap": null,
            "grid_row": null,
            "grid_template_areas": null,
            "grid_template_columns": null,
            "grid_template_rows": null,
            "height": null,
            "justify_content": null,
            "justify_items": null,
            "left": null,
            "margin": null,
            "max_height": null,
            "max_width": null,
            "min_height": null,
            "min_width": null,
            "object_fit": null,
            "object_position": null,
            "order": null,
            "overflow": null,
            "overflow_x": null,
            "overflow_y": null,
            "padding": null,
            "right": null,
            "top": null,
            "visibility": null,
            "width": null
          }
        },
        "f59b0641218c4165ad28e4f83509432b": {
          "model_module": "@jupyter-widgets/controls",
          "model_name": "ProgressStyleModel",
          "model_module_version": "1.5.0",
          "state": {
            "_model_module": "@jupyter-widgets/controls",
            "_model_module_version": "1.5.0",
            "_model_name": "ProgressStyleModel",
            "_view_count": null,
            "_view_module": "@jupyter-widgets/base",
            "_view_module_version": "1.2.0",
            "_view_name": "StyleView",
            "bar_color": null,
            "description_width": ""
          }
        },
        "eb6756a23dea45d99d066bde745e9a20": {
          "model_module": "@jupyter-widgets/base",
          "model_name": "LayoutModel",
          "model_module_version": "1.2.0",
          "state": {
            "_model_module": "@jupyter-widgets/base",
            "_model_module_version": "1.2.0",
            "_model_name": "LayoutModel",
            "_view_count": null,
            "_view_module": "@jupyter-widgets/base",
            "_view_module_version": "1.2.0",
            "_view_name": "LayoutView",
            "align_content": null,
            "align_items": null,
            "align_self": null,
            "border": null,
            "bottom": null,
            "display": null,
            "flex": null,
            "flex_flow": null,
            "grid_area": null,
            "grid_auto_columns": null,
            "grid_auto_flow": null,
            "grid_auto_rows": null,
            "grid_column": null,
            "grid_gap": null,
            "grid_row": null,
            "grid_template_areas": null,
            "grid_template_columns": null,
            "grid_template_rows": null,
            "height": null,
            "justify_content": null,
            "justify_items": null,
            "left": null,
            "margin": null,
            "max_height": null,
            "max_width": null,
            "min_height": null,
            "min_width": null,
            "object_fit": null,
            "object_position": null,
            "order": null,
            "overflow": null,
            "overflow_x": null,
            "overflow_y": null,
            "padding": null,
            "right": null,
            "top": null,
            "visibility": null,
            "width": null
          }
        },
        "f22b89630f6444569bb7b35cabfd4ff1": {
          "model_module": "@jupyter-widgets/controls",
          "model_name": "DescriptionStyleModel",
          "model_module_version": "1.5.0",
          "state": {
            "_model_module": "@jupyter-widgets/controls",
            "_model_module_version": "1.5.0",
            "_model_name": "DescriptionStyleModel",
            "_view_count": null,
            "_view_module": "@jupyter-widgets/base",
            "_view_module_version": "1.2.0",
            "_view_name": "StyleView",
            "description_width": ""
          }
        }
      }
    }
  },
  "cells": [
    {
      "cell_type": "markdown",
      "metadata": {
        "id": "view-in-github",
        "colab_type": "text"
      },
      "source": [
        "<a href=\"https://colab.research.google.com/github/YaninaK/car-insurance-renewal/blob/main/notebooks/02_Car_insurance_renewal_AutoML.ipynb\" target=\"_parent\"><img src=\"https://colab.research.google.com/assets/colab-badge.svg\" alt=\"Open In Colab\"/></a>"
      ]
    },
    {
      "cell_type": "markdown",
      "source": [
        "# Прогноз пролонгации полиса автострахования\n",
        "\n",
        "## Benchmark: AutoML (PyCaret)\n",
        "\n",
        "## [EDA и генерация новых признаков](https://github.com/YaninaK/car-insurance-renewal/blob/main/notebooks/01_Car_insurance_renewal_EDA.ipynb)"
      ],
      "metadata": {
        "id": "ZDk_d--oG3qL"
      }
    },
    {
      "cell_type": "code",
      "source": [
        "!pip install pycaret -q\n",
        "!pip3 install jinja2==3.0.0 -q"
      ],
      "metadata": {
        "id": "SC22pkmJHRZD",
        "colab": {
          "base_uri": "https://localhost:8080/"
        },
        "outputId": "6f5525db-c1df-4dc5-a1cd-0b62170cece3"
      },
      "execution_count": 1,
      "outputs": [
        {
          "output_type": "stream",
          "name": "stdout",
          "text": [
            "\u001b[2K     \u001b[90m━━━━━━━━━━━━━━━━━━━━━━━━━━━━━━━━━━━━━━━\u001b[0m \u001b[32m484.4/484.4 kB\u001b[0m \u001b[31m6.9 MB/s\u001b[0m eta \u001b[36m0:00:00\u001b[0m\n",
            "\u001b[2K     \u001b[90m━━━━━━━━━━━━━━━━━━━━━━━━━━━━━━━━━━━━━━\u001b[0m \u001b[32m153.4/153.4 kB\u001b[0m \u001b[31m14.8 MB/s\u001b[0m eta \u001b[36m0:00:00\u001b[0m\n",
            "\u001b[?25h  Preparing metadata (setup.py) ... \u001b[?25l\u001b[?25hdone\n",
            "\u001b[2K     \u001b[90m━━━━━━━━━━━━━━━━━━━━━━━━━━━━━━━━━━━━━━━━\u001b[0m \u001b[32m81.9/81.9 kB\u001b[0m \u001b[31m9.9 MB/s\u001b[0m eta \u001b[36m0:00:00\u001b[0m\n",
            "\u001b[2K     \u001b[90m━━━━━━━━━━━━━━━━━━━━━━━━━━━━━━━━━━━━━━\u001b[0m \u001b[32m194.1/194.1 kB\u001b[0m \u001b[31m19.5 MB/s\u001b[0m eta \u001b[36m0:00:00\u001b[0m\n",
            "\u001b[2K     \u001b[90m━━━━━━━━━━━━━━━━━━━━━━━━━━━━━━━━━━━━━━━━\u001b[0m \u001b[32m79.9/79.9 MB\u001b[0m \u001b[31m10.4 MB/s\u001b[0m eta \u001b[36m0:00:00\u001b[0m\n",
            "\u001b[2K     \u001b[90m━━━━━━━━━━━━━━━━━━━━━━━━━━━━━━━━━━━━━━\u001b[0m \u001b[32m106.8/106.8 kB\u001b[0m \u001b[31m12.0 MB/s\u001b[0m eta \u001b[36m0:00:00\u001b[0m\n",
            "\u001b[2K     \u001b[90m━━━━━━━━━━━━━━━━━━━━━━━━━━━━━━━━━━━━━━━━\u001b[0m \u001b[32m73.4/73.4 kB\u001b[0m \u001b[31m6.2 MB/s\u001b[0m eta \u001b[36m0:00:00\u001b[0m\n",
            "\u001b[2K     \u001b[90m━━━━━━━━━━━━━━━━━━━━━━━━━━━━━━━━━━━━━━━━\u001b[0m \u001b[32m17.1/17.1 MB\u001b[0m \u001b[31m28.5 MB/s\u001b[0m eta \u001b[36m0:00:00\u001b[0m\n",
            "\u001b[2K     \u001b[90m━━━━━━━━━━━━━━━━━━━━━━━━━━━━━━━━━━━━━━━━\u001b[0m \u001b[32m44.0/44.0 kB\u001b[0m \u001b[31m2.6 MB/s\u001b[0m eta \u001b[36m0:00:00\u001b[0m\n",
            "\u001b[2K     \u001b[90m━━━━━━━━━━━━━━━━━━━━━━━━━━━━━━━━━━━━━━━━\u001b[0m \u001b[32m1.8/1.8 MB\u001b[0m \u001b[31m23.5 MB/s\u001b[0m eta \u001b[36m0:00:00\u001b[0m\n",
            "\u001b[2K     \u001b[90m━━━━━━━━━━━━━━━━━━━━━━━━━━━━━━━━━━━━━━━━\u001b[0m \u001b[32m1.6/1.6 MB\u001b[0m \u001b[31m35.7 MB/s\u001b[0m eta \u001b[36m0:00:00\u001b[0m\n",
            "\u001b[2K     \u001b[90m━━━━━━━━━━━━━━━━━━━━━━━━━━━━━━━━━━━━━━━━\u001b[0m \u001b[32m10.4/10.4 MB\u001b[0m \u001b[31m29.4 MB/s\u001b[0m eta \u001b[36m0:00:00\u001b[0m\n",
            "\u001b[2K     \u001b[90m━━━━━━━━━━━━━━━━━━━━━━━━━━━━━━━━━━━━━━\u001b[0m \u001b[32m140.3/140.3 kB\u001b[0m \u001b[31m14.1 MB/s\u001b[0m eta \u001b[36m0:00:00\u001b[0m\n",
            "\u001b[2K     \u001b[90m━━━━━━━━━━━━━━━━━━━━━━━━━━━━━━━━━━━━━━\u001b[0m \u001b[32m185.2/185.2 kB\u001b[0m \u001b[31m19.1 MB/s\u001b[0m eta \u001b[36m0:00:00\u001b[0m\n",
            "\u001b[2K     \u001b[90m━━━━━━━━━━━━━━━━━━━━━━━━━━━━━━━━━━━━━━━━\u001b[0m \u001b[32m2.3/2.3 MB\u001b[0m \u001b[31m48.8 MB/s\u001b[0m eta \u001b[36m0:00:00\u001b[0m\n",
            "\u001b[2K     \u001b[90m━━━━━━━━━━━━━━━━━━━━━━━━━━━━━━━━━━━━━━━\u001b[0m \u001b[32m118.2/118.2 kB\u001b[0m \u001b[31m8.6 MB/s\u001b[0m eta \u001b[36m0:00:00\u001b[0m\n",
            "\u001b[2K     \u001b[90m━━━━━━━━━━━━━━━━━━━━━━━━━━━━━━━━━━━━━━\u001b[0m \u001b[32m233.6/233.6 kB\u001b[0m \u001b[31m19.3 MB/s\u001b[0m eta \u001b[36m0:00:00\u001b[0m\n",
            "\u001b[?25h  Building wheel for pyod (setup.py) ... \u001b[?25l\u001b[?25hdone\n",
            "\u001b[2K     \u001b[90m━━━━━━━━━━━━━━━━━━━━━━━━━━━━━━━━━━━━━━━\u001b[0m \u001b[32m133.4/133.4 kB\u001b[0m \u001b[31m2.4 MB/s\u001b[0m eta \u001b[36m0:00:00\u001b[0m\n",
            "\u001b[?25h"
          ]
        }
      ]
    },
    {
      "cell_type": "code",
      "source": [
        "from google.colab import drive\n",
        "drive.mount('/content/drive')"
      ],
      "metadata": {
        "colab": {
          "base_uri": "https://localhost:8080/"
        },
        "id": "xF5z6RBtG-wU",
        "outputId": "40a28cc8-3ea9-4276-c374-38b35b0715b8"
      },
      "execution_count": 2,
      "outputs": [
        {
          "output_type": "stream",
          "name": "stdout",
          "text": [
            "Mounted at /content/drive\n"
          ]
        }
      ]
    },
    {
      "cell_type": "code",
      "source": [
        "import pandas as pd\n",
        "import category_encoders as ce\n",
        "from sklearn.pipeline import Pipeline\n",
        "\n",
        "from pycaret.classification import ClassificationExperiment"
      ],
      "metadata": {
        "id": "pPDfloocHrWg"
      },
      "execution_count": 3,
      "outputs": []
    },
    {
      "cell_type": "code",
      "source": [
        "PATH = '/content/drive/MyDrive/ML_projects/04_Car_insurance_renewal/data/01_raw/'\n",
        "RANDOM_SEED = 25"
      ],
      "metadata": {
        "id": "DxIUTAE7MrDm"
      },
      "execution_count": 4,
      "outputs": []
    },
    {
      "cell_type": "markdown",
      "source": [
        "## 1. Чтение данных"
      ],
      "metadata": {
        "id": "eqY_4eYwHvNK"
      }
    },
    {
      "cell_type": "code",
      "source": [
        "data_file = 'Задание (пролонгация).xlsx'\n",
        "field_description = pd.read_excel(PATH + data_file, 0, header=None)\n",
        "data = pd.read_excel(PATH + data_file, 1)"
      ],
      "metadata": {
        "id": "ClUcsHWeH3_5"
      },
      "execution_count": 5,
      "outputs": []
    },
    {
      "cell_type": "code",
      "source": [
        "TARGET_NAME = 'target'"
      ],
      "metadata": {
        "id": "qZVeISD1ID67"
      },
      "execution_count": 6,
      "outputs": []
    },
    {
      "cell_type": "markdown",
      "source": [
        "## 2. Разделение на обучающую и тестовую выбоки"
      ],
      "metadata": {
        "id": "Eg1fvbfGIHmJ"
      }
    },
    {
      "cell_type": "code",
      "source": [
        "train = data[data[TARGET_NAME] != -1]\n",
        "train.shape"
      ],
      "metadata": {
        "colab": {
          "base_uri": "https://localhost:8080/"
        },
        "id": "0lF4si4wH9Fw",
        "outputId": "5f62b20d-7a99-4185-a238-d5c42a69a3e4"
      },
      "execution_count": 7,
      "outputs": [
        {
          "output_type": "execute_result",
          "data": {
            "text/plain": [
              "(7598, 30)"
            ]
          },
          "metadata": {},
          "execution_count": 7
        }
      ]
    },
    {
      "cell_type": "markdown",
      "source": [
        "## 3. Подготовка данных"
      ],
      "metadata": {
        "id": "HD9CV6xHIkkZ"
      }
    },
    {
      "cell_type": "code",
      "source": [
        "categorical_variables = data.dtypes[data.dtypes=='object'].index.tolist()\n",
        "train[categorical_variables].describe().T['unique']"
      ],
      "metadata": {
        "colab": {
          "base_uri": "https://localhost:8080/"
        },
        "id": "v3roDVSsSWpx",
        "outputId": "2a5a0fc5-0447-4d80-9abe-af0d7ba7fc3e"
      },
      "execution_count": 8,
      "outputs": [
        {
          "output_type": "execute_result",
          "data": {
            "text/plain": [
              "Filial              22\n",
              "Type_ts              2\n",
              "passport_region     85\n",
              "VIP                  2\n",
              "Brand               23\n",
              "Model              190\n",
              "GAP                  2\n",
              "married              2\n",
              "deduct               3\n",
              "deduct_amount        3\n",
              "product              4\n",
              "Bank                 3\n",
              "channel - map        2\n",
              "category             4\n",
              "kvs_type             2\n",
              "sex                  3\n",
              "Name: unique, dtype: object"
            ]
          },
          "metadata": {},
          "execution_count": 8
        }
      ]
    },
    {
      "cell_type": "code",
      "source": [
        "cols_1 = ['Filial', 'passport_region', 'Brand', 'Model']\n",
        "cols_2 = [i for i in categorical_variables if not i in cols_1]\n",
        "\n",
        "categorical_transformer = Pipeline(\n",
        "    steps=[\n",
        "        (\"glmm_encoder\", ce.glmm.GLMMEncoder(cols=cols_1,)),\n",
        "        (\"one_hot_encoder\", ce.OneHotEncoder(cols=cols_2)),\n",
        "    ]\n",
        ")"
      ],
      "metadata": {
        "id": "spLVcfLARSg7"
      },
      "execution_count": 9,
      "outputs": []
    },
    {
      "cell_type": "code",
      "source": [
        "numeric_variables = [\n",
        "    i for i in train.columns[1:-1] if not i in categorical_variables\n",
        "]\n",
        "df = categorical_transformer.fit_transform(\n",
        "    train[categorical_variables], train[TARGET_NAME]\n",
        ")\n",
        "X_train = pd.concat([df, train[numeric_variables + [TARGET_NAME]]], axis=1)"
      ],
      "metadata": {
        "id": "e7hHUj0QWkhX"
      },
      "execution_count": 10,
      "outputs": []
    },
    {
      "cell_type": "code",
      "source": [
        "X_train.shape"
      ],
      "metadata": {
        "colab": {
          "base_uri": "https://localhost:8080/"
        },
        "id": "BxCq25iSeg-q",
        "outputId": "f14aaed1-4909-4da7-c3f9-66ebe4a7b16d"
      },
      "execution_count": 11,
      "outputs": [
        {
          "output_type": "execute_result",
          "data": {
            "text/plain": [
              "(7598, 50)"
            ]
          },
          "metadata": {},
          "execution_count": 11
        }
      ]
    },
    {
      "cell_type": "markdown",
      "source": [
        "## 4. Модели"
      ],
      "metadata": {
        "id": "_UYj0Ff8IonD"
      }
    },
    {
      "cell_type": "code",
      "source": [
        "s = ClassificationExperiment()\n",
        "s.setup(X_train, target = TARGET_NAME, session_id = 123)"
      ],
      "metadata": {
        "colab": {
          "base_uri": "https://localhost:8080/",
          "height": 663
        },
        "id": "J_Ff1S91gic6",
        "outputId": "454a5407-2e98-4870-a0f1-a075b2354f3a"
      },
      "execution_count": 12,
      "outputs": [
        {
          "output_type": "display_data",
          "data": {
            "text/plain": [
              "<pandas.io.formats.style.Styler at 0x7c9f048628c0>"
            ],
            "text/html": [
              "<style type=\"text/css\">\n",
              "#T_d58b9_row8_col1 {\n",
              "  background-color: lightgreen;\n",
              "}\n",
              "</style>\n",
              "<table id=\"T_d58b9\" class=\"dataframe\">\n",
              "  <thead>\n",
              "    <tr>\n",
              "      <th class=\"blank level0\" >&nbsp;</th>\n",
              "      <th id=\"T_d58b9_level0_col0\" class=\"col_heading level0 col0\" >Description</th>\n",
              "      <th id=\"T_d58b9_level0_col1\" class=\"col_heading level0 col1\" >Value</th>\n",
              "    </tr>\n",
              "  </thead>\n",
              "  <tbody>\n",
              "    <tr>\n",
              "      <th id=\"T_d58b9_level0_row0\" class=\"row_heading level0 row0\" >0</th>\n",
              "      <td id=\"T_d58b9_row0_col0\" class=\"data row0 col0\" >Session id</td>\n",
              "      <td id=\"T_d58b9_row0_col1\" class=\"data row0 col1\" >123</td>\n",
              "    </tr>\n",
              "    <tr>\n",
              "      <th id=\"T_d58b9_level0_row1\" class=\"row_heading level0 row1\" >1</th>\n",
              "      <td id=\"T_d58b9_row1_col0\" class=\"data row1 col0\" >Target</td>\n",
              "      <td id=\"T_d58b9_row1_col1\" class=\"data row1 col1\" >target</td>\n",
              "    </tr>\n",
              "    <tr>\n",
              "      <th id=\"T_d58b9_level0_row2\" class=\"row_heading level0 row2\" >2</th>\n",
              "      <td id=\"T_d58b9_row2_col0\" class=\"data row2 col0\" >Target type</td>\n",
              "      <td id=\"T_d58b9_row2_col1\" class=\"data row2 col1\" >Binary</td>\n",
              "    </tr>\n",
              "    <tr>\n",
              "      <th id=\"T_d58b9_level0_row3\" class=\"row_heading level0 row3\" >3</th>\n",
              "      <td id=\"T_d58b9_row3_col0\" class=\"data row3 col0\" >Original data shape</td>\n",
              "      <td id=\"T_d58b9_row3_col1\" class=\"data row3 col1\" >(7598, 50)</td>\n",
              "    </tr>\n",
              "    <tr>\n",
              "      <th id=\"T_d58b9_level0_row4\" class=\"row_heading level0 row4\" >4</th>\n",
              "      <td id=\"T_d58b9_row4_col0\" class=\"data row4 col0\" >Transformed data shape</td>\n",
              "      <td id=\"T_d58b9_row4_col1\" class=\"data row4 col1\" >(7598, 50)</td>\n",
              "    </tr>\n",
              "    <tr>\n",
              "      <th id=\"T_d58b9_level0_row5\" class=\"row_heading level0 row5\" >5</th>\n",
              "      <td id=\"T_d58b9_row5_col0\" class=\"data row5 col0\" >Transformed train set shape</td>\n",
              "      <td id=\"T_d58b9_row5_col1\" class=\"data row5 col1\" >(5318, 50)</td>\n",
              "    </tr>\n",
              "    <tr>\n",
              "      <th id=\"T_d58b9_level0_row6\" class=\"row_heading level0 row6\" >6</th>\n",
              "      <td id=\"T_d58b9_row6_col0\" class=\"data row6 col0\" >Transformed test set shape</td>\n",
              "      <td id=\"T_d58b9_row6_col1\" class=\"data row6 col1\" >(2280, 50)</td>\n",
              "    </tr>\n",
              "    <tr>\n",
              "      <th id=\"T_d58b9_level0_row7\" class=\"row_heading level0 row7\" >7</th>\n",
              "      <td id=\"T_d58b9_row7_col0\" class=\"data row7 col0\" >Numeric features</td>\n",
              "      <td id=\"T_d58b9_row7_col1\" class=\"data row7 col1\" >49</td>\n",
              "    </tr>\n",
              "    <tr>\n",
              "      <th id=\"T_d58b9_level0_row8\" class=\"row_heading level0 row8\" >8</th>\n",
              "      <td id=\"T_d58b9_row8_col0\" class=\"data row8 col0\" >Preprocess</td>\n",
              "      <td id=\"T_d58b9_row8_col1\" class=\"data row8 col1\" >True</td>\n",
              "    </tr>\n",
              "    <tr>\n",
              "      <th id=\"T_d58b9_level0_row9\" class=\"row_heading level0 row9\" >9</th>\n",
              "      <td id=\"T_d58b9_row9_col0\" class=\"data row9 col0\" >Imputation type</td>\n",
              "      <td id=\"T_d58b9_row9_col1\" class=\"data row9 col1\" >simple</td>\n",
              "    </tr>\n",
              "    <tr>\n",
              "      <th id=\"T_d58b9_level0_row10\" class=\"row_heading level0 row10\" >10</th>\n",
              "      <td id=\"T_d58b9_row10_col0\" class=\"data row10 col0\" >Numeric imputation</td>\n",
              "      <td id=\"T_d58b9_row10_col1\" class=\"data row10 col1\" >mean</td>\n",
              "    </tr>\n",
              "    <tr>\n",
              "      <th id=\"T_d58b9_level0_row11\" class=\"row_heading level0 row11\" >11</th>\n",
              "      <td id=\"T_d58b9_row11_col0\" class=\"data row11 col0\" >Categorical imputation</td>\n",
              "      <td id=\"T_d58b9_row11_col1\" class=\"data row11 col1\" >mode</td>\n",
              "    </tr>\n",
              "    <tr>\n",
              "      <th id=\"T_d58b9_level0_row12\" class=\"row_heading level0 row12\" >12</th>\n",
              "      <td id=\"T_d58b9_row12_col0\" class=\"data row12 col0\" >Fold Generator</td>\n",
              "      <td id=\"T_d58b9_row12_col1\" class=\"data row12 col1\" >StratifiedKFold</td>\n",
              "    </tr>\n",
              "    <tr>\n",
              "      <th id=\"T_d58b9_level0_row13\" class=\"row_heading level0 row13\" >13</th>\n",
              "      <td id=\"T_d58b9_row13_col0\" class=\"data row13 col0\" >Fold Number</td>\n",
              "      <td id=\"T_d58b9_row13_col1\" class=\"data row13 col1\" >10</td>\n",
              "    </tr>\n",
              "    <tr>\n",
              "      <th id=\"T_d58b9_level0_row14\" class=\"row_heading level0 row14\" >14</th>\n",
              "      <td id=\"T_d58b9_row14_col0\" class=\"data row14 col0\" >CPU Jobs</td>\n",
              "      <td id=\"T_d58b9_row14_col1\" class=\"data row14 col1\" >-1</td>\n",
              "    </tr>\n",
              "    <tr>\n",
              "      <th id=\"T_d58b9_level0_row15\" class=\"row_heading level0 row15\" >15</th>\n",
              "      <td id=\"T_d58b9_row15_col0\" class=\"data row15 col0\" >Use GPU</td>\n",
              "      <td id=\"T_d58b9_row15_col1\" class=\"data row15 col1\" >False</td>\n",
              "    </tr>\n",
              "    <tr>\n",
              "      <th id=\"T_d58b9_level0_row16\" class=\"row_heading level0 row16\" >16</th>\n",
              "      <td id=\"T_d58b9_row16_col0\" class=\"data row16 col0\" >Log Experiment</td>\n",
              "      <td id=\"T_d58b9_row16_col1\" class=\"data row16 col1\" >False</td>\n",
              "    </tr>\n",
              "    <tr>\n",
              "      <th id=\"T_d58b9_level0_row17\" class=\"row_heading level0 row17\" >17</th>\n",
              "      <td id=\"T_d58b9_row17_col0\" class=\"data row17 col0\" >Experiment Name</td>\n",
              "      <td id=\"T_d58b9_row17_col1\" class=\"data row17 col1\" >clf-default-name</td>\n",
              "    </tr>\n",
              "    <tr>\n",
              "      <th id=\"T_d58b9_level0_row18\" class=\"row_heading level0 row18\" >18</th>\n",
              "      <td id=\"T_d58b9_row18_col0\" class=\"data row18 col0\" >USI</td>\n",
              "      <td id=\"T_d58b9_row18_col1\" class=\"data row18 col1\" >445b</td>\n",
              "    </tr>\n",
              "  </tbody>\n",
              "</table>\n"
            ]
          },
          "metadata": {}
        },
        {
          "output_type": "execute_result",
          "data": {
            "text/plain": [
              "<pycaret.classification.oop.ClassificationExperiment at 0x7c9f06a687f0>"
            ]
          },
          "metadata": {},
          "execution_count": 12
        }
      ]
    },
    {
      "cell_type": "code",
      "source": [
        "best = s.compare_models()"
      ],
      "metadata": {
        "colab": {
          "base_uri": "https://localhost:8080/",
          "height": 520,
          "referenced_widgets": [
            "9ffb1e3230db44388a8686651dc182b2",
            "f4491925ec1e48b7a355015c47c73059",
            "ae5817d37f8a4a06a578d86dac32727f",
            "1589801d8cd84226956fb2356bfdcc8e",
            "398e8b257d71426a875ecf697ea8f7df",
            "049d4f55ecf44e74829a6dcb0f97d905",
            "a8e4a9e66fb64498b246f09c8087c819",
            "ad849b0b7b0a4784af0d2e74bc11543a",
            "f59b0641218c4165ad28e4f83509432b",
            "eb6756a23dea45d99d066bde745e9a20",
            "f22b89630f6444569bb7b35cabfd4ff1"
          ]
        },
        "id": "FOE05i-YH9WV",
        "outputId": "33d68e2e-4481-4f8b-e9ca-b776b4023e21"
      },
      "execution_count": 13,
      "outputs": [
        {
          "output_type": "display_data",
          "data": {
            "text/plain": [
              "<IPython.core.display.HTML object>"
            ],
            "text/html": []
          },
          "metadata": {}
        },
        {
          "output_type": "display_data",
          "data": {
            "text/plain": [
              "<pandas.io.formats.style.Styler at 0x7c9f09073700>"
            ],
            "text/html": [
              "<style type=\"text/css\">\n",
              "#T_c1157 th {\n",
              "  text-align: left;\n",
              "}\n",
              "#T_c1157_row0_col0, #T_c1157_row0_col3, #T_c1157_row0_col5, #T_c1157_row0_col6, #T_c1157_row0_col7, #T_c1157_row1_col0, #T_c1157_row1_col1, #T_c1157_row1_col2, #T_c1157_row1_col3, #T_c1157_row1_col4, #T_c1157_row1_col5, #T_c1157_row2_col0, #T_c1157_row2_col1, #T_c1157_row2_col2, #T_c1157_row2_col3, #T_c1157_row2_col4, #T_c1157_row2_col5, #T_c1157_row2_col6, #T_c1157_row2_col7, #T_c1157_row3_col0, #T_c1157_row3_col1, #T_c1157_row3_col2, #T_c1157_row3_col3, #T_c1157_row3_col4, #T_c1157_row3_col5, #T_c1157_row3_col6, #T_c1157_row3_col7, #T_c1157_row4_col0, #T_c1157_row4_col1, #T_c1157_row4_col2, #T_c1157_row4_col3, #T_c1157_row4_col4, #T_c1157_row4_col5, #T_c1157_row4_col6, #T_c1157_row4_col7, #T_c1157_row5_col0, #T_c1157_row5_col1, #T_c1157_row5_col2, #T_c1157_row5_col3, #T_c1157_row5_col4, #T_c1157_row5_col5, #T_c1157_row5_col6, #T_c1157_row5_col7, #T_c1157_row6_col0, #T_c1157_row6_col1, #T_c1157_row6_col2, #T_c1157_row6_col3, #T_c1157_row6_col4, #T_c1157_row6_col6, #T_c1157_row6_col7, #T_c1157_row7_col0, #T_c1157_row7_col1, #T_c1157_row7_col2, #T_c1157_row7_col3, #T_c1157_row7_col4, #T_c1157_row7_col5, #T_c1157_row7_col6, #T_c1157_row7_col7, #T_c1157_row8_col0, #T_c1157_row8_col1, #T_c1157_row8_col2, #T_c1157_row8_col3, #T_c1157_row8_col4, #T_c1157_row8_col5, #T_c1157_row8_col6, #T_c1157_row8_col7, #T_c1157_row9_col0, #T_c1157_row9_col1, #T_c1157_row9_col2, #T_c1157_row9_col3, #T_c1157_row9_col4, #T_c1157_row9_col5, #T_c1157_row9_col6, #T_c1157_row9_col7, #T_c1157_row10_col0, #T_c1157_row10_col1, #T_c1157_row10_col2, #T_c1157_row10_col3, #T_c1157_row10_col4, #T_c1157_row10_col5, #T_c1157_row10_col6, #T_c1157_row10_col7, #T_c1157_row11_col0, #T_c1157_row11_col1, #T_c1157_row11_col2, #T_c1157_row11_col3, #T_c1157_row11_col4, #T_c1157_row11_col5, #T_c1157_row11_col6, #T_c1157_row11_col7, #T_c1157_row12_col0, #T_c1157_row12_col1, #T_c1157_row12_col2, #T_c1157_row12_col3, #T_c1157_row12_col4, #T_c1157_row12_col5, #T_c1157_row12_col6, #T_c1157_row12_col7, #T_c1157_row13_col0, #T_c1157_row13_col1, #T_c1157_row13_col2, #T_c1157_row13_col3, #T_c1157_row13_col4, #T_c1157_row13_col5, #T_c1157_row13_col6, #T_c1157_row13_col7, #T_c1157_row14_col0, #T_c1157_row14_col1, #T_c1157_row14_col2, #T_c1157_row14_col4, #T_c1157_row14_col5, #T_c1157_row14_col6, #T_c1157_row14_col7 {\n",
              "  text-align: left;\n",
              "}\n",
              "#T_c1157_row0_col1, #T_c1157_row0_col2, #T_c1157_row0_col4, #T_c1157_row1_col6, #T_c1157_row1_col7, #T_c1157_row6_col5, #T_c1157_row14_col3 {\n",
              "  text-align: left;\n",
              "  background-color: yellow;\n",
              "}\n",
              "#T_c1157_row0_col8, #T_c1157_row1_col8, #T_c1157_row3_col8, #T_c1157_row4_col8, #T_c1157_row5_col8, #T_c1157_row6_col8, #T_c1157_row7_col8, #T_c1157_row8_col8, #T_c1157_row9_col8, #T_c1157_row10_col8, #T_c1157_row11_col8, #T_c1157_row12_col8, #T_c1157_row13_col8, #T_c1157_row14_col8 {\n",
              "  text-align: left;\n",
              "  background-color: lightgrey;\n",
              "}\n",
              "#T_c1157_row2_col8 {\n",
              "  text-align: left;\n",
              "  background-color: yellow;\n",
              "  background-color: lightgrey;\n",
              "}\n",
              "</style>\n",
              "<table id=\"T_c1157\" class=\"dataframe\">\n",
              "  <thead>\n",
              "    <tr>\n",
              "      <th class=\"blank level0\" >&nbsp;</th>\n",
              "      <th id=\"T_c1157_level0_col0\" class=\"col_heading level0 col0\" >Model</th>\n",
              "      <th id=\"T_c1157_level0_col1\" class=\"col_heading level0 col1\" >Accuracy</th>\n",
              "      <th id=\"T_c1157_level0_col2\" class=\"col_heading level0 col2\" >AUC</th>\n",
              "      <th id=\"T_c1157_level0_col3\" class=\"col_heading level0 col3\" >Recall</th>\n",
              "      <th id=\"T_c1157_level0_col4\" class=\"col_heading level0 col4\" >Prec.</th>\n",
              "      <th id=\"T_c1157_level0_col5\" class=\"col_heading level0 col5\" >F1</th>\n",
              "      <th id=\"T_c1157_level0_col6\" class=\"col_heading level0 col6\" >Kappa</th>\n",
              "      <th id=\"T_c1157_level0_col7\" class=\"col_heading level0 col7\" >MCC</th>\n",
              "      <th id=\"T_c1157_level0_col8\" class=\"col_heading level0 col8\" >TT (Sec)</th>\n",
              "    </tr>\n",
              "  </thead>\n",
              "  <tbody>\n",
              "    <tr>\n",
              "      <th id=\"T_c1157_level0_row0\" class=\"row_heading level0 row0\" >gbc</th>\n",
              "      <td id=\"T_c1157_row0_col0\" class=\"data row0 col0\" >Gradient Boosting Classifier</td>\n",
              "      <td id=\"T_c1157_row0_col1\" class=\"data row0 col1\" >0.7401</td>\n",
              "      <td id=\"T_c1157_row0_col2\" class=\"data row0 col2\" >0.7766</td>\n",
              "      <td id=\"T_c1157_row0_col3\" class=\"data row0 col3\" >0.3813</td>\n",
              "      <td id=\"T_c1157_row0_col4\" class=\"data row0 col4\" >0.6440</td>\n",
              "      <td id=\"T_c1157_row0_col5\" class=\"data row0 col5\" >0.4774</td>\n",
              "      <td id=\"T_c1157_row0_col6\" class=\"data row0 col6\" >0.3195</td>\n",
              "      <td id=\"T_c1157_row0_col7\" class=\"data row0 col7\" >0.3398</td>\n",
              "      <td id=\"T_c1157_row0_col8\" class=\"data row0 col8\" >1.2290</td>\n",
              "    </tr>\n",
              "    <tr>\n",
              "      <th id=\"T_c1157_level0_row1\" class=\"row_heading level0 row1\" >ada</th>\n",
              "      <td id=\"T_c1157_row1_col0\" class=\"data row1 col0\" >Ada Boost Classifier</td>\n",
              "      <td id=\"T_c1157_row1_col1\" class=\"data row1 col1\" >0.7379</td>\n",
              "      <td id=\"T_c1157_row1_col2\" class=\"data row1 col2\" >0.7633</td>\n",
              "      <td id=\"T_c1157_row1_col3\" class=\"data row1 col3\" >0.4139</td>\n",
              "      <td id=\"T_c1157_row1_col4\" class=\"data row1 col4\" >0.6207</td>\n",
              "      <td id=\"T_c1157_row1_col5\" class=\"data row1 col5\" >0.4944</td>\n",
              "      <td id=\"T_c1157_row1_col6\" class=\"data row1 col6\" >0.3278</td>\n",
              "      <td id=\"T_c1157_row1_col7\" class=\"data row1 col7\" >0.3409</td>\n",
              "      <td id=\"T_c1157_row1_col8\" class=\"data row1 col8\" >0.5560</td>\n",
              "    </tr>\n",
              "    <tr>\n",
              "      <th id=\"T_c1157_level0_row2\" class=\"row_heading level0 row2\" >ridge</th>\n",
              "      <td id=\"T_c1157_row2_col0\" class=\"data row2 col0\" >Ridge Classifier</td>\n",
              "      <td id=\"T_c1157_row2_col1\" class=\"data row2 col1\" >0.7366</td>\n",
              "      <td id=\"T_c1157_row2_col2\" class=\"data row2 col2\" >0.0000</td>\n",
              "      <td id=\"T_c1157_row2_col3\" class=\"data row2 col3\" >0.3717</td>\n",
              "      <td id=\"T_c1157_row2_col4\" class=\"data row2 col4\" >0.6346</td>\n",
              "      <td id=\"T_c1157_row2_col5\" class=\"data row2 col5\" >0.4666</td>\n",
              "      <td id=\"T_c1157_row2_col6\" class=\"data row2 col6\" >0.3080</td>\n",
              "      <td id=\"T_c1157_row2_col7\" class=\"data row2 col7\" >0.3283</td>\n",
              "      <td id=\"T_c1157_row2_col8\" class=\"data row2 col8\" >0.0690</td>\n",
              "    </tr>\n",
              "    <tr>\n",
              "      <th id=\"T_c1157_level0_row3\" class=\"row_heading level0 row3\" >lda</th>\n",
              "      <td id=\"T_c1157_row3_col0\" class=\"data row3 col0\" >Linear Discriminant Analysis</td>\n",
              "      <td id=\"T_c1157_row3_col1\" class=\"data row3 col1\" >0.7366</td>\n",
              "      <td id=\"T_c1157_row3_col2\" class=\"data row3 col2\" >0.7582</td>\n",
              "      <td id=\"T_c1157_row3_col3\" class=\"data row3 col3\" >0.3970</td>\n",
              "      <td id=\"T_c1157_row3_col4\" class=\"data row3 col4\" >0.6234</td>\n",
              "      <td id=\"T_c1157_row3_col5\" class=\"data row3 col5\" >0.4830</td>\n",
              "      <td id=\"T_c1157_row3_col6\" class=\"data row3 col6\" >0.3186</td>\n",
              "      <td id=\"T_c1157_row3_col7\" class=\"data row3 col7\" >0.3340</td>\n",
              "      <td id=\"T_c1157_row3_col8\" class=\"data row3 col8\" >0.1260</td>\n",
              "    </tr>\n",
              "    <tr>\n",
              "      <th id=\"T_c1157_level0_row4\" class=\"row_heading level0 row4\" >lightgbm</th>\n",
              "      <td id=\"T_c1157_row4_col0\" class=\"data row4 col0\" >Light Gradient Boosting Machine</td>\n",
              "      <td id=\"T_c1157_row4_col1\" class=\"data row4 col1\" >0.7277</td>\n",
              "      <td id=\"T_c1157_row4_col2\" class=\"data row4 col2\" >0.7635</td>\n",
              "      <td id=\"T_c1157_row4_col3\" class=\"data row4 col3\" >0.4084</td>\n",
              "      <td id=\"T_c1157_row4_col4\" class=\"data row4 col4\" >0.5926</td>\n",
              "      <td id=\"T_c1157_row4_col5\" class=\"data row4 col5\" >0.4827</td>\n",
              "      <td id=\"T_c1157_row4_col6\" class=\"data row4 col6\" >0.3067</td>\n",
              "      <td id=\"T_c1157_row4_col7\" class=\"data row4 col7\" >0.3168</td>\n",
              "      <td id=\"T_c1157_row4_col8\" class=\"data row4 col8\" >1.5870</td>\n",
              "    </tr>\n",
              "    <tr>\n",
              "      <th id=\"T_c1157_level0_row5\" class=\"row_heading level0 row5\" >rf</th>\n",
              "      <td id=\"T_c1157_row5_col0\" class=\"data row5 col0\" >Random Forest Classifier</td>\n",
              "      <td id=\"T_c1157_row5_col1\" class=\"data row5 col1\" >0.7245</td>\n",
              "      <td id=\"T_c1157_row5_col2\" class=\"data row5 col2\" >0.7535</td>\n",
              "      <td id=\"T_c1157_row5_col3\" class=\"data row5 col3\" >0.3910</td>\n",
              "      <td id=\"T_c1157_row5_col4\" class=\"data row5 col4\" >0.5890</td>\n",
              "      <td id=\"T_c1157_row5_col5\" class=\"data row5 col5\" >0.4687</td>\n",
              "      <td id=\"T_c1157_row5_col6\" class=\"data row5 col6\" >0.2934</td>\n",
              "      <td id=\"T_c1157_row5_col7\" class=\"data row5 col7\" >0.3051</td>\n",
              "      <td id=\"T_c1157_row5_col8\" class=\"data row5 col8\" >1.2920</td>\n",
              "    </tr>\n",
              "    <tr>\n",
              "      <th id=\"T_c1157_level0_row6\" class=\"row_heading level0 row6\" >xgboost</th>\n",
              "      <td id=\"T_c1157_row6_col0\" class=\"data row6 col0\" >Extreme Gradient Boosting</td>\n",
              "      <td id=\"T_c1157_row6_col1\" class=\"data row6 col1\" >0.7240</td>\n",
              "      <td id=\"T_c1157_row6_col2\" class=\"data row6 col2\" >0.7496</td>\n",
              "      <td id=\"T_c1157_row6_col3\" class=\"data row6 col3\" >0.4512</td>\n",
              "      <td id=\"T_c1157_row6_col4\" class=\"data row6 col4\" >0.5735</td>\n",
              "      <td id=\"T_c1157_row6_col5\" class=\"data row6 col5\" >0.5046</td>\n",
              "      <td id=\"T_c1157_row6_col6\" class=\"data row6 col6\" >0.3172</td>\n",
              "      <td id=\"T_c1157_row6_col7\" class=\"data row6 col7\" >0.3218</td>\n",
              "      <td id=\"T_c1157_row6_col8\" class=\"data row6 col8\" >1.5630</td>\n",
              "    </tr>\n",
              "    <tr>\n",
              "      <th id=\"T_c1157_level0_row7\" class=\"row_heading level0 row7\" >et</th>\n",
              "      <td id=\"T_c1157_row7_col0\" class=\"data row7 col0\" >Extra Trees Classifier</td>\n",
              "      <td id=\"T_c1157_row7_col1\" class=\"data row7 col1\" >0.7211</td>\n",
              "      <td id=\"T_c1157_row7_col2\" class=\"data row7 col2\" >0.7387</td>\n",
              "      <td id=\"T_c1157_row7_col3\" class=\"data row7 col3\" >0.4217</td>\n",
              "      <td id=\"T_c1157_row7_col4\" class=\"data row7 col4\" >0.5713</td>\n",
              "      <td id=\"T_c1157_row7_col5\" class=\"data row7 col5\" >0.4844</td>\n",
              "      <td id=\"T_c1157_row7_col6\" class=\"data row7 col6\" >0.2997</td>\n",
              "      <td id=\"T_c1157_row7_col7\" class=\"data row7 col7\" >0.3064</td>\n",
              "      <td id=\"T_c1157_row7_col8\" class=\"data row7 col8\" >1.3230</td>\n",
              "    </tr>\n",
              "    <tr>\n",
              "      <th id=\"T_c1157_level0_row8\" class=\"row_heading level0 row8\" >nb</th>\n",
              "      <td id=\"T_c1157_row8_col0\" class=\"data row8 col0\" >Naive Bayes</td>\n",
              "      <td id=\"T_c1157_row8_col1\" class=\"data row8 col1\" >0.6935</td>\n",
              "      <td id=\"T_c1157_row8_col2\" class=\"data row8 col2\" >0.6120</td>\n",
              "      <td id=\"T_c1157_row8_col3\" class=\"data row8 col3\" >0.0699</td>\n",
              "      <td id=\"T_c1157_row8_col4\" class=\"data row8 col4\" >0.5896</td>\n",
              "      <td id=\"T_c1157_row8_col5\" class=\"data row8 col5\" >0.1234</td>\n",
              "      <td id=\"T_c1157_row8_col6\" class=\"data row8 col6\" >0.0609</td>\n",
              "      <td id=\"T_c1157_row8_col7\" class=\"data row8 col7\" >0.1139</td>\n",
              "      <td id=\"T_c1157_row8_col8\" class=\"data row8 col8\" >0.0810</td>\n",
              "    </tr>\n",
              "    <tr>\n",
              "      <th id=\"T_c1157_level0_row9\" class=\"row_heading level0 row9\" >dummy</th>\n",
              "      <td id=\"T_c1157_row9_col0\" class=\"data row9 col0\" >Dummy Classifier</td>\n",
              "      <td id=\"T_c1157_row9_col1\" class=\"data row9 col1\" >0.6879</td>\n",
              "      <td id=\"T_c1157_row9_col2\" class=\"data row9 col2\" >0.5000</td>\n",
              "      <td id=\"T_c1157_row9_col3\" class=\"data row9 col3\" >0.0000</td>\n",
              "      <td id=\"T_c1157_row9_col4\" class=\"data row9 col4\" >0.0000</td>\n",
              "      <td id=\"T_c1157_row9_col5\" class=\"data row9 col5\" >0.0000</td>\n",
              "      <td id=\"T_c1157_row9_col6\" class=\"data row9 col6\" >0.0000</td>\n",
              "      <td id=\"T_c1157_row9_col7\" class=\"data row9 col7\" >0.0000</td>\n",
              "      <td id=\"T_c1157_row9_col8\" class=\"data row9 col8\" >0.1680</td>\n",
              "    </tr>\n",
              "    <tr>\n",
              "      <th id=\"T_c1157_level0_row10\" class=\"row_heading level0 row10\" >lr</th>\n",
              "      <td id=\"T_c1157_row10_col0\" class=\"data row10 col0\" >Logistic Regression</td>\n",
              "      <td id=\"T_c1157_row10_col1\" class=\"data row10 col1\" >0.6865</td>\n",
              "      <td id=\"T_c1157_row10_col2\" class=\"data row10 col2\" >0.6048</td>\n",
              "      <td id=\"T_c1157_row10_col3\" class=\"data row10 col3\" >0.0217</td>\n",
              "      <td id=\"T_c1157_row10_col4\" class=\"data row10 col4\" >0.3827</td>\n",
              "      <td id=\"T_c1157_row10_col5\" class=\"data row10 col5\" >0.0396</td>\n",
              "      <td id=\"T_c1157_row10_col6\" class=\"data row10 col6\" >0.0130</td>\n",
              "      <td id=\"T_c1157_row10_col7\" class=\"data row10 col7\" >0.0258</td>\n",
              "      <td id=\"T_c1157_row10_col8\" class=\"data row10 col8\" >0.7720</td>\n",
              "    </tr>\n",
              "    <tr>\n",
              "      <th id=\"T_c1157_level0_row11\" class=\"row_heading level0 row11\" >svm</th>\n",
              "      <td id=\"T_c1157_row11_col0\" class=\"data row11 col0\" >SVM - Linear Kernel</td>\n",
              "      <td id=\"T_c1157_row11_col1\" class=\"data row11 col1\" >0.6595</td>\n",
              "      <td id=\"T_c1157_row11_col2\" class=\"data row11 col2\" >0.0000</td>\n",
              "      <td id=\"T_c1157_row11_col3\" class=\"data row11 col3\" >0.1271</td>\n",
              "      <td id=\"T_c1157_row11_col4\" class=\"data row11 col4\" >0.1248</td>\n",
              "      <td id=\"T_c1157_row11_col5\" class=\"data row11 col5\" >0.1007</td>\n",
              "      <td id=\"T_c1157_row11_col6\" class=\"data row11 col6\" >0.0276</td>\n",
              "      <td id=\"T_c1157_row11_col7\" class=\"data row11 col7\" >0.0377</td>\n",
              "      <td id=\"T_c1157_row11_col8\" class=\"data row11 col8\" >0.1710</td>\n",
              "    </tr>\n",
              "    <tr>\n",
              "      <th id=\"T_c1157_level0_row12\" class=\"row_heading level0 row12\" >knn</th>\n",
              "      <td id=\"T_c1157_row12_col0\" class=\"data row12 col0\" >K Neighbors Classifier</td>\n",
              "      <td id=\"T_c1157_row12_col1\" class=\"data row12 col1\" >0.6576</td>\n",
              "      <td id=\"T_c1157_row12_col2\" class=\"data row12 col2\" >0.5879</td>\n",
              "      <td id=\"T_c1157_row12_col3\" class=\"data row12 col3\" >0.2657</td>\n",
              "      <td id=\"T_c1157_row12_col4\" class=\"data row12 col4\" >0.4241</td>\n",
              "      <td id=\"T_c1157_row12_col5\" class=\"data row12 col5\" >0.3261</td>\n",
              "      <td id=\"T_c1157_row12_col6\" class=\"data row12 col6\" >0.1126</td>\n",
              "      <td id=\"T_c1157_row12_col7\" class=\"data row12 col7\" >0.1185</td>\n",
              "      <td id=\"T_c1157_row12_col8\" class=\"data row12 col8\" >0.1320</td>\n",
              "    </tr>\n",
              "    <tr>\n",
              "      <th id=\"T_c1157_level0_row13\" class=\"row_heading level0 row13\" >dt</th>\n",
              "      <td id=\"T_c1157_row13_col0\" class=\"data row13 col0\" >Decision Tree Classifier</td>\n",
              "      <td id=\"T_c1157_row13_col1\" class=\"data row13 col1\" >0.6517</td>\n",
              "      <td id=\"T_c1157_row13_col2\" class=\"data row13 col2\" >0.6020</td>\n",
              "      <td id=\"T_c1157_row13_col3\" class=\"data row13 col3\" >0.4693</td>\n",
              "      <td id=\"T_c1157_row13_col4\" class=\"data row13 col4\" >0.4453</td>\n",
              "      <td id=\"T_c1157_row13_col5\" class=\"data row13 col5\" >0.4567</td>\n",
              "      <td id=\"T_c1157_row13_col6\" class=\"data row13 col6\" >0.2008</td>\n",
              "      <td id=\"T_c1157_row13_col7\" class=\"data row13 col7\" >0.2011</td>\n",
              "      <td id=\"T_c1157_row13_col8\" class=\"data row13 col8\" >0.1130</td>\n",
              "    </tr>\n",
              "    <tr>\n",
              "      <th id=\"T_c1157_level0_row14\" class=\"row_heading level0 row14\" >qda</th>\n",
              "      <td id=\"T_c1157_row14_col0\" class=\"data row14 col0\" >Quadratic Discriminant Analysis</td>\n",
              "      <td id=\"T_c1157_row14_col1\" class=\"data row14 col1\" >0.4096</td>\n",
              "      <td id=\"T_c1157_row14_col2\" class=\"data row14 col2\" >0.6358</td>\n",
              "      <td id=\"T_c1157_row14_col3\" class=\"data row14 col3\" >0.8620</td>\n",
              "      <td id=\"T_c1157_row14_col4\" class=\"data row14 col4\" >0.3415</td>\n",
              "      <td id=\"T_c1157_row14_col5\" class=\"data row14 col5\" >0.4785</td>\n",
              "      <td id=\"T_c1157_row14_col6\" class=\"data row14 col6\" >0.0549</td>\n",
              "      <td id=\"T_c1157_row14_col7\" class=\"data row14 col7\" >0.0911</td>\n",
              "      <td id=\"T_c1157_row14_col8\" class=\"data row14 col8\" >0.0940</td>\n",
              "    </tr>\n",
              "  </tbody>\n",
              "</table>\n"
            ]
          },
          "metadata": {}
        },
        {
          "output_type": "display_data",
          "data": {
            "text/plain": [
              "Processing:   0%|          | 0/65 [00:00<?, ?it/s]"
            ],
            "application/vnd.jupyter.widget-view+json": {
              "version_major": 2,
              "version_minor": 0,
              "model_id": "9ffb1e3230db44388a8686651dc182b2"
            }
          },
          "metadata": {
            "application/vnd.jupyter.widget-view+json": {
              "colab": {
                "custom_widget_manager": {
                  "url": "https://ssl.gstatic.com/colaboratory-static/widgets/colab-cdn-widget-manager/b3e629b1971e1542/manager.min.js"
                }
              }
            }
          }
        },
        {
          "output_type": "display_data",
          "data": {
            "text/plain": [
              "<IPython.core.display.HTML object>"
            ],
            "text/html": []
          },
          "metadata": {}
        }
      ]
    },
    {
      "cell_type": "markdown",
      "source": [
        "* Лучший AUC дает Gradient Boosting Classifier (0.7766)\n",
        "* При необходимости максимизировать Recall, можно использовать Quadratic Discriminant Analysis (0.8620)"
      ],
      "metadata": {
        "id": "kP2xbcVjm3_e"
      }
    }
  ]
}